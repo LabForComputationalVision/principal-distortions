{
 "cells": [
  {
   "cell_type": "code",
   "execution_count": 1,
   "id": "7c8a187f",
   "metadata": {},
   "outputs": [
    {
     "name": "stderr",
     "output_type": "stream",
     "text": [
      "/mnt/sw/nix/store/gpkc8q6zjnp3n3h3w9hbmbj6gjbxs85w-python-3.10.10-view/lib/python3.10/site-packages/torchvision/io/image.py:13: UserWarning: Failed to load image Python extension: '/mnt/sw/nix/store/6qvrglgqdpwhbw9zv2nh07fpd7a4wq31-py-torchvision-0.15.2/lib/python3.10/site-packages/torchvision/image.so: undefined symbol: _ZN3c1017RegisterOperatorsD1Ev'If you don't plan on using image functionality from `torchvision.io`, you can ignore this warning. Otherwise, there might be something wrong with your environment. Did you have `libjpeg` or `libpng` installed before building `torchvision` from source?\n",
      "  warn(\n"
     ]
    },
    {
     "name": "stdout",
     "output_type": "stream",
     "text": [
      "Timm models not installed. Please pip install timm if you want to use these models\n"
     ]
    }
   ],
   "source": [
    "from run_early_visual_models_principal_distortions import get_default_args\n",
    "import run_early_visual_models_principal_distortions\n",
    "import argparse \n",
    "from plotting_functions import * \n",
    "from run_early_visual_models_principal_distortions import load_pckl_file as load_pckl_file_early_visual_models\n",
    "\n",
    "%load_ext autoreload\n",
    "%autoreload 2"
   ]
  },
  {
   "cell_type": "code",
   "execution_count": 2,
   "id": "34217502",
   "metadata": {},
   "outputs": [
    {
     "name": "stdout",
     "output_type": "stream",
     "text": [
      "LN;LG;LGG;LGN\n"
     ]
    }
   ],
   "source": [
    "test_models = ['LN',\n",
    "               'LG',\n",
    "               'LGG',\n",
    "               'LGN',\n",
    "                ]\n",
    "\n",
    "model_names = ';'.join(test_models)\n",
    "\n",
    "print(model_names)"
   ]
  },
  {
   "cell_type": "code",
   "execution_count": 5,
   "id": "90695719",
   "metadata": {},
   "outputs": [],
   "source": [
    "short_model_name = 'early_visual_models'\n",
    "\n",
    "all_args = get_default_args()\n",
    "custom_args = {\n",
    "    'model_names': model_names, \n",
    "    'image_path': 'images/parrot.png', ### YOUR IMAGE PATH HERE, NOTE: THESE MODELS OPERATE ON BLACK AND WHITE IMAGES ###,\n",
    "    'num_steps':5000,\n",
    "    'output_custom_exp_name':short_model_name,    \n",
    "    'lr_start_end':[-1,-3],\n",
    "    'seed':0,\n",
    "    \n",
    "    'perturb_clamp_scale':0.01,\n",
    "}\n",
    "\n",
    "all_args.update(custom_args)\n",
    "all_args = argparse.Namespace(**all_args)"
   ]
  },
  {
   "cell_type": "code",
   "execution_count": null,
   "id": "34718180",
   "metadata": {
    "scrolled": true
   },
   "outputs": [],
   "source": [
    "# Run the optimization\n",
    "run_early_visual_models_principal_distortions.main(all_args)"
   ]
  },
  {
   "cell_type": "markdown",
   "id": "f0964e71",
   "metadata": {},
   "source": [
    "### Additional plots, such as the optimization and simulating the model scaling"
   ]
  },
  {
   "cell_type": "code",
   "execution_count": 6,
   "id": "0bc6e288",
   "metadata": {},
   "outputs": [
    {
     "ename": "FileNotFoundError",
     "evalue": "Pickle file not found at ./results/early_visual_models/parrot_lr_-1_-3_steps_5000_norm_0.1_clamp_0.01_gaussian_False_cutoff_1000_seed_0",
     "output_type": "error",
     "traceback": [
      "\u001b[0;31m---------------------------------------------------------------------------\u001b[0m",
      "\u001b[0;31mFileNotFoundError\u001b[0m                         Traceback (most recent call last)",
      "Cell \u001b[0;32mIn[6], line 1\u001b[0m\n\u001b[0;32m----> 1\u001b[0m output \u001b[38;5;241m=\u001b[39m \u001b[43mload_pckl_file_early_visual_models\u001b[49m\u001b[43m(\u001b[49m\u001b[43mall_args\u001b[49m\u001b[43m)\u001b[49m\n\u001b[1;32m      3\u001b[0m plt\u001b[38;5;241m.\u001b[39mfigure(figsize\u001b[38;5;241m=\u001b[39m(\u001b[38;5;241m2\u001b[39m,\u001b[38;5;241m2\u001b[39m))\n\u001b[1;32m      4\u001b[0m plt\u001b[38;5;241m.\u001b[39mplot([d\u001b[38;5;241m.\u001b[39mdetach()\u001b[38;5;241m.\u001b[39mcpu()\u001b[38;5;241m.\u001b[39mnumpy() \u001b[38;5;28;01mfor\u001b[39;00m d \u001b[38;5;129;01min\u001b[39;00m output[\u001b[38;5;124m'\u001b[39m\u001b[38;5;124mobjective_hist\u001b[39m\u001b[38;5;124m'\u001b[39m]])\n",
      "File \u001b[0;32m/mnt/ceph/users/jfeather/projects/optimal-perturbation/run_early_visual_models_principal_distortions.py:137\u001b[0m, in \u001b[0;36mload_pckl_file\u001b[0;34m(args)\u001b[0m\n\u001b[1;32m    135\u001b[0m     \u001b[38;5;28;01mreturn\u001b[39;00m data\n\u001b[1;32m    136\u001b[0m \u001b[38;5;28;01melse\u001b[39;00m:\n\u001b[0;32m--> 137\u001b[0m     \u001b[38;5;28;01mraise\u001b[39;00m \u001b[38;5;167;01mFileNotFoundError\u001b[39;00m(\u001b[38;5;124mf\u001b[39m\u001b[38;5;124m\"\u001b[39m\u001b[38;5;124mPickle file not found at \u001b[39m\u001b[38;5;132;01m{\u001b[39;00moutput_path\u001b[38;5;132;01m}\u001b[39;00m\u001b[38;5;124m\"\u001b[39m)\n",
      "\u001b[0;31mFileNotFoundError\u001b[0m: Pickle file not found at ./results/early_visual_models/parrot_lr_-1_-3_steps_5000_norm_0.1_clamp_0.01_gaussian_False_cutoff_1000_seed_0"
     ]
    }
   ],
   "source": [
    "output = load_pckl_file_early_visual_models(all_args)\n",
    "\n",
    "plt.figure(figsize=(2,2))\n",
    "plt.plot([d.detach().cpu().numpy() for d in output['objective_hist']])\n",
    "plt.title('Optimization Loss')"
   ]
  },
  {
   "cell_type": "code",
   "execution_count": 7,
   "id": "2b5e3949",
   "metadata": {},
   "outputs": [],
   "source": [
    "from models.early_vision_models import *\n",
    "device = 'cuda'\n",
    "\n",
    "model_list = []\n",
    "for model_name in test_models:\n",
    "    model = EARLY_VISUAL_MODEL_DICT[model_name](device=device)\n",
    "    model.to(device)\n",
    "    model_list.append(model)"
   ]
  },
  {
   "cell_type": "code",
   "execution_count": 8,
   "id": "d6f37569",
   "metadata": {},
   "outputs": [
    {
     "ename": "FileNotFoundError",
     "evalue": "Pickle file not found at ./results/early_visual_models/parrot_lr_-1_-3_steps_5000_norm_0.1_clamp_0.01_gaussian_False_cutoff_1000_seed_0",
     "output_type": "error",
     "traceback": [
      "\u001b[0;31m---------------------------------------------------------------------------\u001b[0m",
      "\u001b[0;31mFileNotFoundError\u001b[0m                         Traceback (most recent call last)",
      "Cell \u001b[0;32mIn[8], line 4\u001b[0m\n\u001b[1;32m      1\u001b[0m test_images \u001b[38;5;241m=\u001b[39m [all_args\u001b[38;5;241m.\u001b[39mimage_path,\n\u001b[1;32m      2\u001b[0m               ]\n\u001b[0;32m----> 4\u001b[0m \u001b[43mshow_examples_with_varying_perturbations\u001b[49m\u001b[43m(\u001b[49m\u001b[43mall_args\u001b[49m\u001b[43m,\u001b[49m\u001b[43m \u001b[49m\n\u001b[1;32m      5\u001b[0m \u001b[43m                                         \u001b[49m\u001b[43mtest_images\u001b[49m\u001b[43m,\u001b[49m\u001b[43m \u001b[49m\n\u001b[1;32m      6\u001b[0m \u001b[43m                                         \u001b[49m\u001b[43mmodel_list\u001b[49m\u001b[38;5;241;43m=\u001b[39;49m\u001b[43mmodel_list\u001b[49m\u001b[43m,\u001b[49m\n\u001b[1;32m      7\u001b[0m \u001b[43m                                         \u001b[49m\u001b[43mvertical_layout\u001b[49m\u001b[38;5;241;43m=\u001b[39;49m\u001b[38;5;28;43;01mFalse\u001b[39;49;00m\u001b[43m,\u001b[49m\n\u001b[1;32m      8\u001b[0m \u001b[43m                                         \u001b[49m\u001b[43mperturb_scales\u001b[49m\u001b[38;5;241;43m=\u001b[39;49m\u001b[43m[\u001b[49m\u001b[38;5;241;43m500\u001b[39;49m\u001b[43m,\u001b[49m\u001b[38;5;241;43m250\u001b[39;49m\u001b[43m]\u001b[49m\u001b[43m,\u001b[49m\n\u001b[1;32m      9\u001b[0m \u001b[43m                                         \u001b[49m\u001b[43mmodel_for_positive_thresh\u001b[49m\u001b[38;5;241;43m=\u001b[39;49m\u001b[43mmodel_list\u001b[49m\u001b[43m[\u001b[49m\u001b[38;5;241;43m0\u001b[39;49m\u001b[43m]\u001b[49m\u001b[43m,\u001b[49m\n\u001b[1;32m     10\u001b[0m \u001b[43m                                         \u001b[49m\n\u001b[1;32m     11\u001b[0m \u001b[43m                                         \u001b[49m\u001b[43m)\u001b[49m\n",
      "File \u001b[0;32m/mnt/ceph/users/jfeather/projects/optimal-perturbation/plotting_functions.py:210\u001b[0m, in \u001b[0;36mshow_examples_with_varying_perturbations\u001b[0;34m(all_args, image_idx_list, model_list, opacity_dict, perturb_scales, vertical_layout, model_for_positive_thresh, model_cmap, bg_image_type, print_imagenet_category, log_thresh_lims, model_layer_offset)\u001b[0m\n\u001b[1;32m    208\u001b[0m     output \u001b[38;5;241m=\u001b[39m load_pckl_file(all_args)\n\u001b[1;32m    209\u001b[0m \u001b[38;5;28;01melse\u001b[39;00m:\n\u001b[0;32m--> 210\u001b[0m     output \u001b[38;5;241m=\u001b[39m \u001b[43mload_pckl_file_early_visual_models\u001b[49m\u001b[43m(\u001b[49m\u001b[43mall_args\u001b[49m\u001b[43m)\u001b[49m\n\u001b[1;32m    211\u001b[0m test_image \u001b[38;5;241m=\u001b[39m output[\u001b[38;5;124m'\u001b[39m\u001b[38;5;124mtest_image\u001b[39m\u001b[38;5;124m'\u001b[39m]\n\u001b[1;32m    212\u001b[0m opt_perturbation_a_tmp \u001b[38;5;241m=\u001b[39m output[\u001b[38;5;124m'\u001b[39m\u001b[38;5;124mopt_perturbation_a\u001b[39m\u001b[38;5;124m'\u001b[39m]\n",
      "File \u001b[0;32m/mnt/ceph/users/jfeather/projects/optimal-perturbation/run_early_visual_models_principal_distortions.py:137\u001b[0m, in \u001b[0;36mload_pckl_file\u001b[0;34m(args)\u001b[0m\n\u001b[1;32m    135\u001b[0m     \u001b[38;5;28;01mreturn\u001b[39;00m data\n\u001b[1;32m    136\u001b[0m \u001b[38;5;28;01melse\u001b[39;00m:\n\u001b[0;32m--> 137\u001b[0m     \u001b[38;5;28;01mraise\u001b[39;00m \u001b[38;5;167;01mFileNotFoundError\u001b[39;00m(\u001b[38;5;124mf\u001b[39m\u001b[38;5;124m\"\u001b[39m\u001b[38;5;124mPickle file not found at \u001b[39m\u001b[38;5;132;01m{\u001b[39;00moutput_path\u001b[38;5;132;01m}\u001b[39;00m\u001b[38;5;124m\"\u001b[39m)\n",
      "\u001b[0;31mFileNotFoundError\u001b[0m: Pickle file not found at ./results/early_visual_models/parrot_lr_-1_-3_steps_5000_norm_0.1_clamp_0.01_gaussian_False_cutoff_1000_seed_0"
     ]
    },
    {
     "data": {
      "text/plain": [
       "<Figure size 4800x600 with 0 Axes>"
      ]
     },
     "metadata": {},
     "output_type": "display_data"
    }
   ],
   "source": [
    "test_images = [all_args.image_path,\n",
    "              ]\n",
    "\n",
    "show_examples_with_varying_perturbations(all_args, \n",
    "                                         test_images, \n",
    "                                         model_list=model_list,\n",
    "                                         vertical_layout=False,\n",
    "                                         perturb_scales=[500,250],\n",
    "                                         model_for_positive_thresh=model_list[0],\n",
    "                                         )"
   ]
  },
  {
   "cell_type": "code",
   "execution_count": null,
   "id": "8cff1fb4",
   "metadata": {},
   "outputs": [],
   "source": [
    "base_distortion = 500\n",
    "\n",
    "test_image = output['test_image']\n",
    "opt_perturbation_a = output['opt_perturbation_a']\n",
    "opt_perturbation_b = output['opt_perturbation_b']\n",
    "\n",
    "model_order = [\n",
    "               'LuminanceContrastGainControl (LGG)',\n",
    "               'LinearNonLinear (LN)',\n",
    "               'OnOff (LGN)',\n",
    "               'LuminanceGainControl (LG)',\n",
    "               ]\n",
    "\n",
    "\n",
    "plt.figure(figsize=(12,4*len(model_list)))\n",
    "\n",
    "for model in model_list:\n",
    "    m_idx = model_order.index(model.model_name)\n",
    "    t_1, t_2 = utils.compute_model_thresh(model, test_image, opt_perturbation_a, opt_perturbation_b)\n",
    "    ratio = ch.sqrt(t_1) / ch.sqrt(t_2)\n",
    "    factor_a = base_distortion * ratio\n",
    "    factor_b = base_distortion / ratio\n",
    "        \n",
    "    model_normalization = 0.5 * (factor_a + factor_b)\n",
    "    factor_a /= (model_normalization)\n",
    "    factor_b /= (model_normalization)\n",
    "        \n",
    "    total_mul_fac_a = base_distortion*factor_a\n",
    "    total_mul_fac_b = base_distortion*factor_b\n",
    "    \n",
    "    dist_a, dist_b = utils.compute_l2_distance(model,\n",
    "                                           test_image,\n",
    "                                           total_mul_fac_a*opt_perturbation_a,\n",
    "                                           total_mul_fac_b*opt_perturbation_b)\n",
    "    \n",
    "    ax = plt.subplot(len(model_list),3,1+3*m_idx)\n",
    "    ax.text(0.6,.5,f'{model.model_name}',\n",
    "              bbox={'facecolor':'white','alpha':1,'edgecolor':'none','pad':-10},\n",
    "              ha='center', va='center', fontsize=12) \n",
    "    plt.axis('off')\n",
    "    \n",
    "    ax = plt.subplot(len(model_list),3,2+3*m_idx)\n",
    "    perturbed_image_a = np.rollaxis((test_image + base_distortion*opt_perturbation_a*factor_a).detach().cpu().numpy()[0,:,:,:], 0, 3)\n",
    "    plt.imshow(perturbed_image_a,\n",
    "               cmap='gray', interpolation='none', vmin=0, vmax=1)\n",
    "    \n",
    "    # Only label the leftmost distortion\n",
    "    scaled_total_mul_fac_a = total_mul_fac_a * ch.norm(opt_perturbation_a)\n",
    "    plt.title(f'{scaled_total_mul_fac_a:0.3f} * \\epsilon 1')\n",
    "    plt.axis('off')\n",
    "    \n",
    "    ax = plt.subplot(len(model_list),3,3+3*m_idx)\n",
    "    perturbed_image_b = np.rollaxis((test_image + base_distortion*opt_perturbation_b*factor_b).detach().cpu().numpy()[0,:,:,:], 0, 3)\n",
    "    plt.imshow(perturbed_image_b,\n",
    "               cmap='gray', interpolation='none', vmin=0, vmax=1)\n",
    "    plt.axis('off')\n",
    "    scaled_total_mul_fac_b = total_mul_fac_b * ch.norm(opt_perturbation_b)\n",
    "    plt.title(f'{scaled_total_mul_fac_b:0.3f} * \\epsilon 2')    "
   ]
  },
  {
   "cell_type": "code",
   "execution_count": null,
   "id": "093c1b24",
   "metadata": {},
   "outputs": [],
   "source": []
  },
  {
   "cell_type": "code",
   "execution_count": null,
   "id": "05d14a2a",
   "metadata": {},
   "outputs": [],
   "source": []
  }
 ],
 "metadata": {
  "kernelspec": {
   "display_name": "opt_perturb_2",
   "language": "python",
   "name": "opt_perturb_2"
  },
  "language_info": {
   "codemirror_mode": {
    "name": "ipython",
    "version": 3
   },
   "file_extension": ".py",
   "mimetype": "text/x-python",
   "name": "python",
   "nbconvert_exporter": "python",
   "pygments_lexer": "ipython3",
   "version": "3.10.10"
  }
 },
 "nbformat": 4,
 "nbformat_minor": 5
}
